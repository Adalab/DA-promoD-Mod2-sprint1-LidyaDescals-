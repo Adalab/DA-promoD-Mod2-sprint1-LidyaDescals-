{
 "cells": [
  {
   "cell_type": "markdown",
   "metadata": {},
   "source": [
    "# **Ejercicios de la evaluación del Módulo 2 Sprint 1**\n",
    "## **Numpy**\n",
    "### **Lidya Descals**\n",
    "\n",
    "---"
   ]
  },
  {
   "attachments": {},
   "cell_type": "markdown",
   "metadata": {},
   "source": [
    "1. Importa la librería de NumPy.\n"
   ]
  },
  {
   "cell_type": "code",
   "execution_count": 11,
   "metadata": {},
   "outputs": [],
   "source": [
    "import numpy as np"
   ]
  },
  {
   "attachments": {},
   "cell_type": "markdown",
   "metadata": {},
   "source": [
    "2. Crea un array de 1 dimension y 10 elementos.\n"
   ]
  },
  {
   "cell_type": "code",
   "execution_count": 12,
   "metadata": {},
   "outputs": [
    {
     "data": {
      "text/plain": [
       "array([87,  6, 48, 92, 70, 37,  8, 37, 13,  6])"
      ]
     },
     "execution_count": 12,
     "metadata": {},
     "output_type": "execute_result"
    }
   ],
   "source": [
    "unidimensional = np.random.randint(1, 100, (10))\n",
    "unidimensional"
   ]
  },
  {
   "attachments": {},
   "cell_type": "markdown",
   "metadata": {},
   "source": [
    "3. Reemplaza todos los números impares por el valor \"par\" y los pares por \"par\". Para hacer esto os tendréis que crear un array nuevo donde vayáis añadiendo los valores nuevos.\n"
   ]
  },
  {
   "cell_type": "code",
   "execution_count": 13,
   "metadata": {},
   "outputs": [
    {
     "data": {
      "text/plain": [
       "array(['Impar', 'Par', 'Par', 'Par', 'Par', 'Impar', 'Par', 'Impar',\n",
       "       'Impar', 'Par'], dtype=object)"
      ]
     },
     "execution_count": 13,
     "metadata": {},
     "output_type": "execute_result"
    }
   ],
   "source": [
    "# Entiendo que el enunciado contiene un error y que se trata de cambiar los números impares por el valor \"impar\".\n",
    "\n",
    "pares_impares = np.empty((10), object)\n",
    "\n",
    "for num in range(unidimensional.shape[0]):\n",
    "    if unidimensional[num] % 2 == 0:\n",
    "        pares_impares[num] = \"Par\"\n",
    "    else:\n",
    "        pares_impares[num] = \"Impar\"\n",
    "\n",
    "pares_impares\n"
   ]
  },
  {
   "attachments": {},
   "cell_type": "markdown",
   "metadata": {},
   "source": [
    "4. Cambiad la forma del array del ejercicio 3 a un array de 2 filas y 5 columnas.\n"
   ]
  },
  {
   "cell_type": "code",
   "execution_count": 14,
   "metadata": {},
   "outputs": [
    {
     "data": {
      "text/plain": [
       "array([['Impar', 'Par', 'Par', 'Par', 'Par'],\n",
       "       ['Impar', 'Par', 'Impar', 'Impar', 'Par']], dtype=object)"
      ]
     },
     "execution_count": 14,
     "metadata": {},
     "output_type": "execute_result"
    }
   ],
   "source": [
    "bidimensional = np.reshape(pares_impares, (2,5))\n",
    "bidimensional"
   ]
  },
  {
   "attachments": {},
   "cell_type": "markdown",
   "metadata": {},
   "source": [
    "5. Extrae los elementos comunes de los siguientes arrays\n",
    "\n",
    "    ```\n",
    "    array1 = np.array([1,2,3,2,3,4,3,4,5,6])\n",
    "    array2 = np.array([7,2,10,2,7,4,9,4,9,8])\n"
   ]
  },
  {
   "cell_type": "code",
   "execution_count": 32,
   "metadata": {},
   "outputs": [
    {
     "data": {
      "text/plain": [
       "array([2, 4])"
      ]
     },
     "execution_count": 32,
     "metadata": {},
     "output_type": "execute_result"
    }
   ],
   "source": [
    "array1 = np.array([1,2,3,2,3,4,3,4,5,6])\n",
    "array2 = np.array([7,2,10,2,7,4,9,4,9,8])\n",
    "\n",
    "np.intersect1d(array1, array2)"
   ]
  },
  {
   "attachments": {},
   "cell_type": "markdown",
   "metadata": {},
   "source": [
    "\n",
    "6. Extraed los elementos que están en el array1 pero no en el array2.\n"
   ]
  },
  {
   "cell_type": "code",
   "execution_count": 16,
   "metadata": {},
   "outputs": [
    {
     "data": {
      "text/plain": [
       "array([1, 3, 5, 6])"
      ]
     },
     "execution_count": 16,
     "metadata": {},
     "output_type": "execute_result"
    }
   ],
   "source": [
    "np.setdiff1d(array1, array2)"
   ]
  },
  {
   "attachments": {},
   "cell_type": "markdown",
   "metadata": {},
   "source": [
    "7. Extraed las posiciones donde tengamos elementos que sean iguales.\n"
   ]
  },
  {
   "cell_type": "code",
   "execution_count": 40,
   "metadata": {},
   "outputs": [
    {
     "name": "stdout",
     "output_type": "stream",
     "text": [
      "Los índices donde encontramos elementos que aparecen en los dos arrays son [1 3 5 7], tanto para el array1 como para el array2\n"
     ]
    }
   ],
   "source": [
    "print(f\"Los índices donde encontramos elementos que aparecen en los dos arrays son {np.where(array1 == array2)[0]}, tanto para el array1 como para el array2\")"
   ]
  },
  {
   "attachments": {},
   "cell_type": "markdown",
   "metadata": {},
   "source": [
    "8. Cread un array de 3 filas y 5 columnas, con números enteros del 0 al 50. Una vez creado, extrae los valores que sean menores que 10 y mayores que 40.\n"
   ]
  },
  {
   "cell_type": "code",
   "execution_count": 47,
   "metadata": {},
   "outputs": [
    {
     "name": "stdout",
     "output_type": "stream",
     "text": [
      "[[35  5 25 11 48]\n",
      " [30  1 43  6 44]\n",
      " [13 23  0  5 14]]\n",
      "Estos valores son menores de 10: (array([0, 1, 1, 2, 2]), array([1, 1, 3, 2, 3])),\n",
      " y estos mayores de 40: (array([0, 1, 1]), array([4, 2, 4]))\n"
     ]
    }
   ],
   "source": [
    "enteros = np.random.randint(0, 51, (3,5))\n",
    "print(enteros)\n",
    "print(f\"Estos valores son menores de 10: {np.where(enteros < 10)},\\n y estos mayores de 40: {np.where(enteros > 40)}\")"
   ]
  },
  {
   "attachments": {},
   "cell_type": "markdown",
   "metadata": {},
   "source": [
    "9. Cread un array de 5x3 con números decimales aleatorios entre el 5 y el 10.\n"
   ]
  },
  {
   "cell_type": "code",
   "execution_count": 51,
   "metadata": {},
   "outputs": [
    {
     "data": {
      "text/plain": [
       "array([[5.32, 7.08, 7.49],\n",
       "       [9.82, 9.06, 9.5 ],\n",
       "       [6.68, 9.12, 5.1 ],\n",
       "       [9.84, 6.7 , 7.93],\n",
       "       [7.79, 7.88, 5.38]])"
      ]
     },
     "execution_count": 51,
     "metadata": {},
     "output_type": "execute_result"
    }
   ],
   "source": [
    "decimales = np.random.uniform(5, 10, (5, 3)).round(2)\n",
    "decimales"
   ]
  },
  {
   "attachments": {},
   "cell_type": "markdown",
   "metadata": {},
   "source": [
    "10. Crea un array de tres dimensiones de 2x4x7 con números entre el 1 y el 20\n"
   ]
  },
  {
   "cell_type": "code",
   "execution_count": 52,
   "metadata": {},
   "outputs": [
    {
     "data": {
      "text/plain": [
       "array([[[13, 19,  3, 20,  3, 20,  4],\n",
       "        [ 9,  2, 19,  8,  5,  9, 20],\n",
       "        [19,  6, 11, 20,  7,  6, 11],\n",
       "        [10, 12,  4, 20,  3, 13,  3]],\n",
       "\n",
       "       [[ 8, 17,  1, 16, 15, 11,  4],\n",
       "        [ 6,  5, 12, 18, 12, 14,  2],\n",
       "        [10, 20, 13, 16,  4, 15, 14],\n",
       "        [10, 18,  9, 15, 10, 17,  1]]])"
      ]
     },
     "execution_count": 52,
     "metadata": {},
     "output_type": "execute_result"
    }
   ],
   "source": [
    "tridimensional = np.random.randint(1, 21,(2, 4, 7))\n",
    "tridimensional"
   ]
  },
  {
   "attachments": {},
   "cell_type": "markdown",
   "metadata": {},
   "source": [
    "- Transponed el array para que tenga 4 matrices, 7 filas y 2 columnas"
   ]
  },
  {
   "cell_type": "code",
   "execution_count": 59,
   "metadata": {},
   "outputs": [
    {
     "data": {
      "text/plain": [
       "array([[[13,  8],\n",
       "        [19, 17],\n",
       "        [ 3,  1],\n",
       "        [20, 16],\n",
       "        [ 3, 15],\n",
       "        [20, 11],\n",
       "        [ 4,  4]],\n",
       "\n",
       "       [[ 9,  6],\n",
       "        [ 2,  5],\n",
       "        [19, 12],\n",
       "        [ 8, 18],\n",
       "        [ 5, 12],\n",
       "        [ 9, 14],\n",
       "        [20,  2]],\n",
       "\n",
       "       [[19, 10],\n",
       "        [ 6, 20],\n",
       "        [11, 13],\n",
       "        [20, 16],\n",
       "        [ 7,  4],\n",
       "        [ 6, 15],\n",
       "        [11, 14]],\n",
       "\n",
       "       [[10, 10],\n",
       "        [12, 18],\n",
       "        [ 4,  9],\n",
       "        [20, 15],\n",
       "        [ 3, 10],\n",
       "        [13, 17],\n",
       "        [ 3,  1]]])"
      ]
     },
     "execution_count": 59,
     "metadata": {},
     "output_type": "execute_result"
    }
   ],
   "source": [
    "np.transpose(tridimensional, (1, 2, 0))"
   ]
  }
 ],
 "metadata": {
  "kernelspec": {
   "display_name": "adalabenv",
   "language": "python",
   "name": "python3"
  },
  "language_info": {
   "codemirror_mode": {
    "name": "ipython",
    "version": 3
   },
   "file_extension": ".py",
   "mimetype": "text/x-python",
   "name": "python",
   "nbconvert_exporter": "python",
   "pygments_lexer": "ipython3",
   "version": "3.10.9"
  },
  "orig_nbformat": 4
 },
 "nbformat": 4,
 "nbformat_minor": 2
}
